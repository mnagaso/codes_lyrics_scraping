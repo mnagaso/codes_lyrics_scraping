{
 "cells": [
  {
   "cell_type": "code",
   "execution_count": 38,
   "metadata": {},
   "outputs": [
    {
     "name": "stdout",
     "output_type": "stream",
     "text": [
      "['../scraped_data/aiko.json',\n",
      " '../scraped_data/yasuyuki_okamura.json',\n",
      " '../scraped_data/mr_children.json',\n",
      " '../scraped_data/yosui_inoue.json',\n",
      " '../scraped_data/seiko_matsuda.json',\n",
      " '../scraped_data/ringo_shina.json']\n"
     ]
    }
   ],
   "source": [
    "import json, glob\n",
    "from pprint import pprint\n",
    "store = '../scraped_data/'\n",
    "\n",
    "artist_list = glob.glob(store+\"*.json\")\n",
    "pprint(artist_list)"
   ]
  },
  {
   "cell_type": "code",
   "execution_count": 39,
   "metadata": {},
   "outputs": [],
   "source": [
    "f = open(artist_list[0],\"r\")\n",
    "jf = json.load(f)[0]"
   ]
  },
  {
   "cell_type": "code",
   "execution_count": 40,
   "metadata": {},
   "outputs": [
    {
     "name": "stdout",
     "output_type": "stream",
     "text": [
      "189\n"
     ]
    }
   ],
   "source": [
    "titles = jf['titles']\n",
    "codes  = jf['codes'][0]\n",
    "lyrics = jf['lyrics'][0]\n",
    "\n",
    "print(len(titles))"
   ]
  },
  {
   "cell_type": "code",
   "execution_count": 41,
   "metadata": {},
   "outputs": [
    {
     "name": "stdout",
     "output_type": "stream",
     "text": [
      "「合図」\n",
      "['B♭M7', 'C7sus4', 'FM7']\n",
      "['nan', 'nan', 'nan']\n",
      "['Am7', 'D7sus4', 'D7', 'Adim']\n",
      "ねぇ もっと好きって言ってよ                 \n",
      "['Gm7', 'C7sus4', 'FM7']\n",
      "眠れなくなるくらい困らせてよ\n",
      "['A7sus4', 'A7', 'Dm7']\n",
      "愛の形を壊してしまってよ \n",
      "['B♭M7', 'C7sus4', 'FM7']\n",
      "あなただけのものに作り上げて\n",
      "['Am7', 'D7sus4', 'D7']\n",
      "あたしをずっと見ててよ     \n",
      "['Gm7', 'C7sus4', 'FM7']\n",
      "そ してこのまま連れてってよ\n",
      "['A7sus4', 'A7', 'Dm7', 'B♭M7', 'C7sus4', 'Dm7']\n",
      "隣にいても夢を見るの そして胸に焼き付けるの\n",
      "['B♭M7', 'B♭m7']\n",
      "何度も上げてもらって ぶつかってゆだねて \n",
      "['Am7', 'D7sus4', 'Dm7', 'C7']\n",
      "一緒にいられるなら \n",
      "['Bm7-5', 'E7', 'Am7']\n",
      "どんな関係でも  \n",
      "['A♭dim', 'Gm', 'Am', 'B♭', 'C7sus4', 'B♭M7', 'Am7']\n",
      "か     まわないよ\n",
      "['Gm7', 'C7sus4', 'FM7']\n",
      "上手く言葉になら   ない \n",
      "['B♭M7', 'A7sus4', 'A7', 'Dm7', 'D♭m7', 'Cm7']\n",
      "あなたの秘密にな   り た  い  \n",
      "['B♭M7', 'FM7', 'Gm7', 'C7sus4', 'FM7', 'Gm7', 'Am7']\n",
      "誰に  も気付かれない   ように         \n",
      "['Gm7', 'A7', 'Dm7', 'D♭m7', 'Cm7', 'Bm7-5']\n",
      "あたしを抱きしめて \n",
      "['E7', 'Am7', 'D7sus4', 'D7']\n",
      "必ず合図して \n",
      "['Gm', 'Am', 'B♭m', 'C7sus4']\n",
      "あなたしか見てな いから\n",
      "['B♭M7', 'Am7', 'Gm7', 'FM7']\n",
      "['nan', 'nan', 'nan', 'nan']\n",
      "['B♭M7', 'Am7', 'Gm7', 'C7', 'B♭']\n",
      "['nan', 'nan', 'nan', 'nan', 'nan']\n",
      "['Am7', 'D7sus4', 'D7']\n",
      "ねぇ たったひとつだけの           \n",
      "['Adim', 'Gm7', 'C7sus4', 'FM7']\n",
      "こ   のかたまりを どうかあなたの\n",
      "['A7sus4', 'A7', 'Dm']\n",
      "ポケットの奥にしまい込んで \n",
      "['B♭M7', 'C7sus4', 'FM7']\n",
      "そのまま指でふさいでしまってよ\n",
      "['Am7', 'D7sus4', 'D7']\n",
      "涙が頬を通る           \n",
      "['Gm7', 'C7sus4', 'FM7']\n",
      "悲しいって事すら愛おしい\n",
      "['A7sus4', 'A7', 'Dm7']\n",
      "少しだけある距離がもどかしいよ \n",
      "['B♭M7', 'C7sus4', 'Dm7']\n",
      "明日はどうなってるの   \n",
      "['B♭M7', 'B♭m7']\n",
      "想いの熱でふらついて体温に触れて \n",
      "['Am7', 'D7sus4', 'Dm7', 'C7']\n",
      "同じ気持ちになれたら \n",
      "['Bm7-5', 'E7', 'Am7', 'A♭dim', 'Gm', 'Am']\n",
      "どうしようもない日でも  し     あわせだよ\n",
      "['B♭', 'C7sus4', 'B♭M7', 'Am7']\n",
      "['nan', 'nan', 'nan', 'nan']\n",
      "['Gm7', 'C7sus4', 'FM7']\n",
      "優しい声しか知ら   ない\n",
      "['B♭M7', 'A7sus4', 'A7', 'Dm7', 'D♭m7', 'Cm7']\n",
      "あなたの全てが知   り た  い \n",
      "['B♭M7', 'FM7', 'Gm7', 'C7sus4', 'FM7', 'Gm7', 'Am7']\n",
      "薄いシャツで透き通  りバ   レた               \n",
      "['Gm7', 'A7', 'Dm7', 'D♭m7']\n",
      "心を抱きしめて \n",
      "['Cm7', 'Bm7-5']\n",
      "['nan', 'nan']\n",
      "['E7', 'Am7', 'D7sus4', 'D7']\n",
      "帰りに合図して \n",
      "['Gm', 'Am', 'B♭m', 'C7sus4']\n",
      "あなただけ見てい るから\n",
      "['B♭M7', 'F', 'Gm7', 'FM7']\n",
      "['nan', 'nan', 'nan', 'nan']\n",
      "['B♭M7', 'F', 'Gm7', 'C7']\n",
      "['nan', 'nan', 'nan', 'nan']\n",
      "['Fm7', 'B♭7', 'D♭m', 'A♭', 'E♭']\n",
      "['nan', 'nan', 'nan', 'nan', 'nan']\n",
      "['Fm7', 'B♭7', 'E♭7sus4', 'C7sus4']\n",
      "['nan', 'nan', 'nan', 'nan']\n",
      "['B♭M7', 'Am7']\n",
      "['nan', 'nan']\n",
      "['Gm7', 'C7sus4', 'FM7']\n",
      "上手く言葉になら   ない \n",
      "['B♭M7', 'A7sus4', 'A7', 'Dm7', 'D♭m7', 'Cm7']\n",
      "あなたの秘密にな   り た  い    よ\n",
      "['B♭M7', 'FM7', 'Gm7', 'C7sus4', 'FM7', 'Gm7', 'Am7']\n",
      "誰に  も気付かれない   ように              \n",
      "['Gm7', 'A7', 'Dm7', 'D♭m7', 'Cm7', 'Bm7-5']\n",
      "あたしを抱きしめて\n",
      "['E7', 'Am7', 'D7sus4', 'D7']\n",
      "必ず合図して \n",
      "['Gm', 'Am', 'B♭m', 'C7sus4', 'Fadd9']\n",
      "あなたしか見てな いか   ら\n"
     ]
    }
   ],
   "source": [
    "# example indication of single song\n",
    "id_song = 10\n",
    "print(titles[id_song])\n",
    "\n",
    "for i in range(len(codes[id_song])):\n",
    "    print(codes[id_song][i])\n",
    "    print(lyrics[id_song][i])"
   ]
  },
  {
   "cell_type": "code",
   "execution_count": 34,
   "metadata": {},
   "outputs": [],
   "source": []
  },
  {
   "cell_type": "code",
   "execution_count": null,
   "metadata": {},
   "outputs": [],
   "source": []
  }
 ],
 "metadata": {
  "kernelspec": {
   "display_name": "Python 3",
   "language": "python",
   "name": "python3"
  },
  "language_info": {
   "codemirror_mode": {
    "name": "ipython",
    "version": 3
   },
   "file_extension": ".py",
   "mimetype": "text/x-python",
   "name": "python",
   "nbconvert_exporter": "python",
   "pygments_lexer": "ipython3",
   "version": "3.5.6"
  }
 },
 "nbformat": 4,
 "nbformat_minor": 2
}
